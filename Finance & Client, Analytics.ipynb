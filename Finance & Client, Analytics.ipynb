{
 "cells": [
  {
   "cell_type": "markdown",
   "id": "3f77f339-0448-40ba-915f-fb6ab75d0555",
   "metadata": {},
   "source": [
    "Задание 1: Анализ финансовых транзакций и клиентов.\n",
    "\n",
    "Описание:\n",
    "\n",
    "В тестовом задании вам предоставляются два набора данных:\n",
    "Файл transactions_data.xlsx (данные о финансовых транзакциях):\n",
    "•\ttransaction_id – уникальный идентификатор транзакции\n",
    "•\tclient_id – идентификатор клиента, совершившего транзакцию\n",
    "•\ttransaction_date – дата проведения транзакции\n",
    "•\tservice – тип оказанной финансовой услуги\n",
    "•\tamount – сумма транзакции (выручка)\n",
    "•\tpayment_method – способ оплаты (банковский перевод, кредитная карта и т. д.)\n",
    "•\tcity – город, в котором была совершена транзакция\n",
    "•\tconsultant – имя финансового консультанта, оформившего транзакцию\n",
    "\n",
    "Файл clients_data.json (данные о клиентах):\n",
    "•\tclient_id – уникальный идентификатор клиента\n",
    "•\tage – возраст клиента\n",
    "•\tgender – пол клиента\n",
    "•\tnet_worth – чистая стоимость активов клиента\n",
    "\n",
    "Данные могут содержать пропуски, ошибки (например, некорректные даты), а также аномальные значения (отрицательные суммы, несуществующие услуги и т. д.), поэтому перед анализом необходимо их очистить и нормализовать.\n",
    "\n",
    "Задачи:\n",
    "1.\tОчистка и подготовка данных. Проверить данные на пропущенные и аномальные значения (например, отрицательные суммы транзакций). Удалить или исправить некорректные данные. Привести формат дат к единому стандарту."
   ]
  },
  {
   "cell_type": "code",
   "execution_count": 74,
   "id": "d014fa99-5d2d-46c2-8cfe-237b7c863730",
   "metadata": {},
   "outputs": [],
   "source": [
    "import pandas as pd"
   ]
  },
  {
   "cell_type": "code",
   "execution_count": 75,
   "id": "00fa3879-e54d-4946-aea4-76f0689b207d",
   "metadata": {},
   "outputs": [],
   "source": [
    "#Чтение файлов:\n",
    "df1T = pd.read_excel('Источники/transactions_data.xlsx')\n",
    "df2C = pd.read_json('Источники/clients_data.json')  "
   ]
  },
  {
   "cell_type": "code",
   "execution_count": 76,
   "id": "be0f4c6e-f137-4f1f-997d-025800f7de9c",
   "metadata": {},
   "outputs": [
    {
     "data": {
      "text/plain": [
       "np.int64(0)"
      ]
     },
     "execution_count": 76,
     "metadata": {},
     "output_type": "execute_result"
    }
   ],
   "source": [
    "#Проверки на дубли:\n",
    "df1T.duplicated().sum()\n",
    "df2C.duplicated().sum()"
   ]
  },
  {
   "cell_type": "code",
   "execution_count": 89,
   "id": "1af7eb6f-e3fa-408a-b3d3-67d0f3db7ac9",
   "metadata": {},
   "outputs": [
    {
     "data": {
      "text/plain": [
       "transaction_id        0\n",
       "client_id             0\n",
       "transaction_date    805\n",
       "service               0\n",
       "amount                0\n",
       "payment_method        0\n",
       "city                  0\n",
       "consultant            0\n",
       "dtype: int64"
      ]
     },
     "execution_count": 89,
     "metadata": {},
     "output_type": "execute_result"
    }
   ],
   "source": [
    "#Проверка на пустые значения:\n",
    "df1T.isna().sum() #Проверка на Пустые значения в Транзакциях. \n",
    "\n",
    "#UPD: Значения по 0 должно быть, после очистки. UPD: Есть данные где остальные присутствуют, но нет дат. "
   ]
  },
  {
   "cell_type": "code",
   "execution_count": 78,
   "id": "0ea3d4e5-efeb-4660-aca6-d7d19ef94fbd",
   "metadata": {},
   "outputs": [
    {
     "data": {
      "text/plain": [
       "id              1\n",
       "age           983\n",
       "gender       3319\n",
       "net_worth     475\n",
       "dtype: int64"
      ]
     },
     "execution_count": 78,
     "metadata": {},
     "output_type": "execute_result"
    }
   ],
   "source": [
    "#Проверка на пустые значения:\n",
    "df2C.isna().sum() #Проверка на Пустые значения в Клиентах."
   ]
  },
  {
   "attachments": {},
   "cell_type": "raw",
   "id": "90d30c70-d276-44de-9528-a09944d291df",
   "metadata": {},
   "source": [
    "План очистки данных файла Транзакции:\n",
    "\n",
    "Удалю данные: \n",
    "\n",
    "-Где нет id транзакции. Нет указаний, в тестовом задании, что с ним делать. И пока нет возможности спросить как откуда до грузить id. \n",
    "-Где нет id клиента в файле транзакции. Тоже самое.\n",
    "\n",
    "-Где есть поле \"Неизвестная услуга\". Тоже самое. \n",
    "-Где нет в поле \"transaction_date\" даты. \n",
    "\n",
    "Пока под вопросом, попробую сначала к одному формату подогнать, может получиться исправить, и дата появится. \n",
    "*А потом выше вернемся к проверке. \n",
    "\n",
    "UPD: И ещё есть формат где даты нет, но остальные данные на месте. По итогу оставили данные где нет дат, но остальные данные есть. "
   ]
  },
  {
   "cell_type": "code",
   "execution_count": 79,
   "id": "9ae10d42-6341-45a4-9a64-222ec3a4882e",
   "metadata": {},
   "outputs": [],
   "source": [
    "#Очистка данных на пустые значения файла Транзакции:\n",
    "df1T = df1T.dropna() \n",
    "\n",
    "#Провоерка выше."
   ]
  },
  {
   "cell_type": "code",
   "execution_count": 80,
   "id": "f2ebfa1f-3e27-486f-b162-30367cf623ed",
   "metadata": {},
   "outputs": [],
   "source": [
    "#Сохранение данных:\n",
    "df1T.to_excel('Источники/transactions_data.xlsx', index=False)"
   ]
  },
  {
   "cell_type": "markdown",
   "id": "1229e9e0-d5ea-4db2-9075-cc619d4c284e",
   "metadata": {},
   "source": [
    "Пробуем сначала преобразовать даты, есть в строках со значением \"INVALID_DATE\". \n",
    "Возможно действие не эффективно и не целесообразное, но мы проверим. "
   ]
  },
  {
   "cell_type": "code",
   "execution_count": 90,
   "id": "e86590a6-db43-4308-b090-f70574347d0e",
   "metadata": {},
   "outputs": [],
   "source": [
    "#Преобразование дат к одному в формату с целью проверки изменения значения:\n",
    "df1T['transaction_date'] = pd.to_datetime(df1T['transaction_date'])\n",
    "#Приведение всех дат к одному формату с точностью до секунд:\n",
    "df1T['transaction_date'] = df1T['transaction_date'].dt.strftime('%Y-%m-%d %H:%M:%S')\n",
    "\n",
    "#*Чтобы сработало нужно ниже выполнить сначала \"#Замена INVALID_DATE на Nan\"."
   ]
  },
  {
   "cell_type": "markdown",
   "id": "e0f426f2-805d-4019-b7a1-8ea7e9fd8905",
   "metadata": {},
   "source": [
    "Нам это дало ошибку, заменим на пустые значения, проверим, может есть данные где нет дат,\n",
    "но остальные данные целостные. \n",
    "\n",
    "Unknown datetime string format, unable to parse: INVALID_DATE, at position 15"
   ]
  },
  {
   "cell_type": "code",
   "execution_count": 82,
   "id": "3b996bdc-c486-45c8-b7c4-5d34fdc075e7",
   "metadata": {},
   "outputs": [],
   "source": [
    "#Замена INVALID_DATE на Nan\n",
    "\n",
    "df1T['transaction_date'] = pd.to_datetime(df1T['transaction_date'], errors='coerce')"
   ]
  },
  {
   "cell_type": "code",
   "execution_count": 84,
   "id": "9a330b13-dc96-449c-9877-9e0791226885",
   "metadata": {},
   "outputs": [],
   "source": [
    "#Сохранение данных:\n",
    "df1T.to_excel('Источники/transactions_data.xlsx', index=False)"
   ]
  },
  {
   "cell_type": "markdown",
   "id": "e60a3e01-2e1f-41b7-b8b4-b3cd6bcc6808",
   "metadata": {},
   "source": [
    "Есть файлы где нет даты, но остальные в норме. Продолжим удаление, но по условиям. "
   ]
  },
  {
   "cell_type": "code",
   "execution_count": 85,
   "id": "629a9037-9ce9-4c60-b7b3-dc572ceb6169",
   "metadata": {},
   "outputs": [],
   "source": [
    "#Удаление строк с \"Неизвестной услугой\":\n",
    "df1T = df1T[df1T['service'] != 'Неизвестная услуга']"
   ]
  },
  {
   "cell_type": "code",
   "execution_count": 91,
   "id": "224254ad-3db6-4ad0-ac55-08200156ca15",
   "metadata": {},
   "outputs": [],
   "source": [
    "#Сохранение данных:\n",
    "df1T.to_excel('Источники/transactions_data.xlsx', index=False)"
   ]
  },
  {
   "cell_type": "code",
   "execution_count": 97,
   "id": "ad776aab-cd04-41cf-a422-556ad4b10173",
   "metadata": {},
   "outputs": [
    {
     "name": "stdout",
     "output_type": "stream",
     "text": [
      "-58592.28318671013\n",
      "149490.98131813295\n"
     ]
    }
   ],
   "source": [
    "#Продолжаем очистку, теперь зайдем со стороны аномальных значений:\n",
    "#Использую \"Межквартильный размах\" (IQR). \n",
    "\n",
    "# Рассчитываем первый и третий квартели, чтобы посчитать IQR.\n",
    "Q1 = df1T['amount'].quantile(0.25)\n",
    "Q3 = df1T['amount'].quantile(0.75)\n",
    "\n",
    "#Расчитываем IQR:\n",
    "IQR = Q3 - Q1\n",
    "\n",
    "#Устанавливаем границы \n",
    "lower_bound = Q1 - 1.5 * IQR #Нижняя.\n",
    "upper_bound = Q3 + 1.5 * IQR #Верхняя.\n",
    "\n",
    "#Вывод границ: \n",
    "print(lower_bound)\n",
    "print(upper_bound)"
   ]
  },
  {
   "cell_type": "code",
   "execution_count": 102,
   "id": "4ad63f29-77dd-4e46-ae52-2574d4d93cb0",
   "metadata": {},
   "outputs": [
    {
     "name": "stdout",
     "output_type": "stream",
     "text": [
      "                              service         amount\n",
      "65                Управление активами  165531.626439\n",
      "191   Инвестиционное консультирование  176346.818037\n",
      "251   Инвестиционное консультирование  158548.065675\n",
      "272               Управление активами  163445.690198\n",
      "347           Финансовое планирование  194496.625320\n",
      "...                               ...            ...\n",
      "9500        Структурирование капитала  158543.668647\n",
      "9631        Структурирование капитала  168401.012948\n",
      "9643           Налоговое планирование  160444.593254\n",
      "9671  Инвестиционное консультирование  161210.845033\n",
      "9743              Управление активами  154649.101918\n",
      "\n",
      "[151 rows x 2 columns]\n"
     ]
    }
   ],
   "source": [
    "#Вывод аномальных значений из файла:\n",
    "anomal = df1T[(df1T['amount'] < lower_bound) | (df1T['amount'] > upper_bound)]\n",
    "print(anomal[['service','amount']])"
   ]
  },
  {
   "cell_type": "code",
   "execution_count": 104,
   "id": "3beae288-c4af-4afd-94b6-3286e64dbf68",
   "metadata": {},
   "outputs": [],
   "source": [
    "#Удаление аномальных значений: \n",
    "df1T = df1T[(df1T['amount'] >= lower_bound) & (df1T['amount'] <= upper_bound)] "
   ]
  },
  {
   "cell_type": "code",
   "execution_count": 106,
   "id": "eed8cd39-e51a-4f7c-ae9e-01d0cfdb75cd",
   "metadata": {},
   "outputs": [],
   "source": [
    "#Сохранение данных:\n",
    "df1T.to_excel('Источники/transactions_data.xlsx', index=False)"
   ]
  },
  {
   "cell_type": "code",
   "execution_count": 108,
   "id": "958586c1-e840-42b3-87a7-b37a990bae32",
   "metadata": {},
   "outputs": [
    {
     "name": "stdout",
     "output_type": "stream",
     "text": [
      "Empty DataFrame\n",
      "Columns: [transaction_id, client_id, transaction_date, service, amount, payment_method, city, consultant]\n",
      "Index: []\n"
     ]
    }
   ],
   "source": [
    "#Проверка: \n",
    "#Вывод аномальных значений из файла:\n",
    "anomal = df1T[(df1T['amount'] < lower_bound) | (df1T['amount'] > upper_bound)]\n",
    "\n",
    "print(anomal)"
   ]
  }
 ],
 "metadata": {
  "kernelspec": {
   "display_name": "Python 3 (ipykernel)",
   "language": "python",
   "name": "python3"
  },
  "language_info": {
   "codemirror_mode": {
    "name": "ipython",
    "version": 3
   },
   "file_extension": ".py",
   "mimetype": "text/x-python",
   "name": "python",
   "nbconvert_exporter": "python",
   "pygments_lexer": "ipython3",
   "version": "3.13.3"
  }
 },
 "nbformat": 4,
 "nbformat_minor": 5
}
