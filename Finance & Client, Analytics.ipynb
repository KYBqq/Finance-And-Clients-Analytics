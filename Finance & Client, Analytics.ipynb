{
 "cells": [
  {
   "cell_type": "raw",
   "id": "fb214d38-1bbf-4225-ba73-904803527c48",
   "metadata": {},
   "source": [
    "Задание 1: Анализ финансовых транзакций и клиентов.\n",
    "\n",
    "Описание:\n",
    "\n",
    "В тестовом задании вам предоставляются два набора данных:\n",
    "Файл transactions_data.xlsx (данные о финансовых транзакциях):\n",
    "•\ttransaction_id – уникальный идентификатор транзакции\n",
    "•\tclient_id – идентификатор клиента, совершившего транзакцию\n",
    "•\ttransaction_date – дата проведения транзакции\n",
    "•\tservice – тип оказанной финансовой услуги\n",
    "•\tamount – сумма транзакции (выручка)\n",
    "•\tpayment_method – способ оплаты (банковский перевод, кредитная карта и т. д.)\n",
    "•\tcity – город, в котором была совершена транзакция\n",
    "•\tconsultant – имя финансового консультанта, оформившего транзакцию\n",
    "\n",
    "Файл clients_data.json (данные о клиентах):\n",
    "•\tclient_id – уникальный идентификатор клиента\n",
    "•\tage – возраст клиента\n",
    "•\tgender – пол клиента\n",
    "•\tnet_worth – чистая стоимость активов клиента\n",
    "\n",
    "Данные могут содержать пропуски, ошибки (например, некорректные даты), а также аномальные значения (отрицательные суммы, несуществующие услуги и т. д.), поэтому перед анализом необходимо их очистить и нормализовать.\n",
    "\n",
    "Задачи:\n",
    "1.\tОчистка и подготовка данных. Проверить данные на пропущенные и аномальные значения (например, отрицательные суммы транзакций). Удалить или исправить некорректные данные. Привести формат дат к единому стандарту."
   ]
  },
  {
   "cell_type": "code",
   "execution_count": 112,
   "id": "d014fa99-5d2d-46c2-8cfe-237b7c863730",
   "metadata": {},
   "outputs": [],
   "source": [
    "import pandas as pd"
   ]
  },
  {
   "cell_type": "code",
   "execution_count": 113,
   "id": "00fa3879-e54d-4946-aea4-76f0689b207d",
   "metadata": {},
   "outputs": [],
   "source": [
    "#Чтение файлов:\n",
    "df1T = pd.read_excel('Источники/transactions_data.xlsx')\n",
    "df2C = pd.read_json('Источники/clients_data.json')  "
   ]
  },
  {
   "cell_type": "code",
   "execution_count": 114,
   "id": "be0f4c6e-f137-4f1f-997d-025800f7de9c",
   "metadata": {},
   "outputs": [
    {
     "data": {
      "text/plain": [
       "np.int64(0)"
      ]
     },
     "execution_count": 114,
     "metadata": {},
     "output_type": "execute_result"
    }
   ],
   "source": [
    "#Проверки на дубли:\n",
    "df1T.duplicated().sum()\n",
    "df2C.duplicated().sum()"
   ]
  },
  {
   "cell_type": "code",
   "execution_count": 130,
   "id": "1af7eb6f-e3fa-408a-b3d3-67d0f3db7ac9",
   "metadata": {},
   "outputs": [
    {
     "data": {
      "text/plain": [
       "transaction_id      0\n",
       "client_id           0\n",
       "transaction_date    0\n",
       "service             0\n",
       "amount              0\n",
       "payment_method      0\n",
       "city                0\n",
       "consultant          0\n",
       "dtype: int64"
      ]
     },
     "execution_count": 130,
     "metadata": {},
     "output_type": "execute_result"
    }
   ],
   "source": [
    "#Проверка на пустые значения:\n",
    "df1T.isna().sum() #Проверка на Пустые значения в Транзакциях. \n",
    "\n",
    "#UPD1: Значения по 0 должно быть, после очистки. \n",
    "#UPD2: Есть данные где остальные присутствуют, но нет дат. Заполенено \"INVALID_DATE\"."
   ]
  },
  {
   "cell_type": "code",
   "execution_count": 116,
   "id": "0ea3d4e5-efeb-4660-aca6-d7d19ef94fbd",
   "metadata": {},
   "outputs": [
    {
     "data": {
      "text/plain": [
       "id              1\n",
       "age           983\n",
       "gender       3319\n",
       "net_worth     475\n",
       "dtype: int64"
      ]
     },
     "execution_count": 116,
     "metadata": {},
     "output_type": "execute_result"
    }
   ],
   "source": [
    "#Проверка на пустые значения:\n",
    "df2C.isna().sum() #Проверка на Пустые значения в Клиентах."
   ]
  },
  {
   "attachments": {},
   "cell_type": "raw",
   "id": "90d30c70-d276-44de-9528-a09944d291df",
   "metadata": {},
   "source": [
    "План очистки данных файла Транзакции:\n",
    "\n",
    "Удалю данные: \n",
    "\n",
    "-Где нет id транзакции. Нет указаний, в тестовом задании, что с ним делать. И пока нет возможности спросить как откуда до грузить id. \n",
    "-Где нет id клиента в файле транзакции. Тоже самое.\n",
    "\n",
    "-Где есть поле \"Неизвестная услуга\". Тоже самое. \n",
    "-Где нет в поле \"transaction_date\" даты. Пока под вопросомю.\n",
    "\n",
    "UPD1: И ещё есть формат где даты нет, но остальные данные на месте. По итогу оставили данные где нет дат, но остальные данные есть. \n",
    "\n",
    "UPD2:Пока не трогаю данные где есть \"Неизвестный консультант\" и city - \"Неизвестный город\"\n",
    "\n",
    "UPD3:Удалил данные где пропуск дат, возможно буду мешать прогнозированию. "
   ]
  },
  {
   "cell_type": "code",
   "execution_count": 117,
   "id": "9ae10d42-6341-45a4-9a64-222ec3a4882e",
   "metadata": {},
   "outputs": [],
   "source": [
    "#Очистка данных на пустые значения файла Транзакции:\n",
    "df1T = df1T.dropna() \n",
    "\n",
    "#Провоерка выше."
   ]
  },
  {
   "cell_type": "code",
   "execution_count": 118,
   "id": "f2ebfa1f-3e27-486f-b162-30367cf623ed",
   "metadata": {},
   "outputs": [],
   "source": [
    "#Сохранение данных:\n",
    "df1T.to_excel('Источники/transactions_data.xlsx', index=False)"
   ]
  },
  {
   "cell_type": "code",
   "execution_count": 119,
   "id": "e1e13c98-43bc-4e35-8237-c8db9708f010",
   "metadata": {},
   "outputs": [],
   "source": [
    "#Замена INVALID_DATE на Nan\n",
    "\n",
    "df1T['transaction_date'] = pd.to_datetime(df1T['transaction_date'], errors='coerce')\n",
    "\n",
    "#Дает ошибку, если за ранее не изменнить.\n",
    "#\"Unknown datetime string format, unable to parse: INVALID_DATE, at position 15\"."
   ]
  },
  {
   "cell_type": "code",
   "execution_count": 120,
   "id": "e86590a6-db43-4308-b090-f70574347d0e",
   "metadata": {},
   "outputs": [],
   "source": [
    "#Преобразование дат к одному в формату с целью проверки изменения значения:\n",
    "df1T['transaction_date'] = pd.to_datetime(df1T['transaction_date'])\n",
    "#Приведение всех дат к одному формату с точностью до секунд:\n",
    "df1T['transaction_date'] = df1T['transaction_date'].dt.strftime('%Y-%m-%d %H:%M:%S')"
   ]
  },
  {
   "cell_type": "raw",
   "id": "957757e7-772a-425d-9318-77895b1c18d4",
   "metadata": {},
   "source": [
    "Проверим, может есть данные где нет дат, но остальные данные целостные. "
   ]
  },
  {
   "cell_type": "code",
   "execution_count": 121,
   "id": "9a330b13-dc96-449c-9877-9e0791226885",
   "metadata": {},
   "outputs": [],
   "source": [
    "#Сохранение данных:\n",
    "df1T.to_excel('Источники/transactions_data.xlsx', index=False)"
   ]
  },
  {
   "cell_type": "markdown",
   "id": "e60a3e01-2e1f-41b7-b8b4-b3cd6bcc6808",
   "metadata": {},
   "source": [
    "Есть файлы где нет даты, но остальные в норме. Продолжим удаление, но по условиям. \n",
    "*Открыл вручуную файл Excel.*. "
   ]
  },
  {
   "cell_type": "code",
   "execution_count": 122,
   "id": "c1315a42-518b-48e3-8acc-f5ab799849ba",
   "metadata": {},
   "outputs": [],
   "source": [
    "#Очистка данных на пустые значения файла Транзакции:\n",
    "df1T = df1T.dropna() \n",
    "\n",
    "#Пересмотрел план, удаляю данные где нет даты. Так как возможно будет мешать прогнозированию."
   ]
  },
  {
   "cell_type": "code",
   "execution_count": 123,
   "id": "629a9037-9ce9-4c60-b7b3-dc572ceb6169",
   "metadata": {},
   "outputs": [],
   "source": [
    "#Удаление строк с \"Неизвестной услугой\":\n",
    "df1T = df1T[df1T['service'] != 'Неизвестная услуга']"
   ]
  },
  {
   "cell_type": "code",
   "execution_count": 124,
   "id": "224254ad-3db6-4ad0-ac55-08200156ca15",
   "metadata": {},
   "outputs": [],
   "source": [
    "#Сохранение данных:\n",
    "df1T.to_excel('Источники/transactions_data.xlsx', index=False)"
   ]
  },
  {
   "cell_type": "code",
   "execution_count": 125,
   "id": "ad776aab-cd04-41cf-a422-556ad4b10173",
   "metadata": {},
   "outputs": [
    {
     "name": "stdout",
     "output_type": "stream",
     "text": [
      "0\n",
      "149823.31445055085\n"
     ]
    }
   ],
   "source": [
    "#Продолжаем очистку, теперь зайдем со стороны аномальных значений:\n",
    "#Использую \"Межквартильный размах\" (IQR). \n",
    "\n",
    "# Рассчитываем первый и третий квартели, чтобы посчитать IQR.\n",
    "Q1 = df1T['amount'].quantile(0.25)\n",
    "Q3 = df1T['amount'].quantile(0.75)\n",
    "\n",
    "#Расчитываем IQR:\n",
    "IQR = Q3 - Q1\n",
    "\n",
    "#Устанавливаем границы \n",
    "lower_bound = max(0, Q1 - 1.5 * IQR) #Нижняя. Нижняя не может быть меньше 0. (...отрицательные суммы).\n",
    "upper_bound = Q3 + 1.5 * IQR #Верхняя.\n",
    "\n",
    "#Вывод границ: \n",
    "print(lower_bound)\n",
    "print(upper_bound)"
   ]
  },
  {
   "cell_type": "code",
   "execution_count": 126,
   "id": "4ad63f29-77dd-4e46-ae52-2574d4d93cb0",
   "metadata": {},
   "outputs": [
    {
     "name": "stdout",
     "output_type": "stream",
     "text": [
      "                              service         amount\n",
      "65                Управление активами  165531.626439\n",
      "191   Инвестиционное консультирование  176346.818037\n",
      "251   Инвестиционное консультирование  158548.065675\n",
      "272               Управление активами  163445.690198\n",
      "347           Финансовое планирование  194496.625320\n",
      "...                               ...            ...\n",
      "9345           Налоговое планирование  150878.174850\n",
      "9500        Структурирование капитала  158543.668647\n",
      "9631        Структурирование капитала  168401.012948\n",
      "9643           Налоговое планирование  160444.593254\n",
      "9671  Инвестиционное консультирование  161210.845033\n",
      "\n",
      "[134 rows x 2 columns]\n"
     ]
    }
   ],
   "source": [
    "#Вывод аномальных значений из файла:\n",
    "anomal = df1T[(df1T['amount'] < lower_bound) | (df1T['amount'] > upper_bound)]\n",
    "print(anomal[['service','amount']])"
   ]
  },
  {
   "cell_type": "code",
   "execution_count": 127,
   "id": "3beae288-c4af-4afd-94b6-3286e64dbf68",
   "metadata": {},
   "outputs": [],
   "source": [
    "#Удаление аномальных значений: \n",
    "df1T = df1T[(df1T['amount'] >= lower_bound) & (df1T['amount'] <= upper_bound)] "
   ]
  },
  {
   "cell_type": "code",
   "execution_count": 128,
   "id": "eed8cd39-e51a-4f7c-ae9e-01d0cfdb75cd",
   "metadata": {},
   "outputs": [],
   "source": [
    "#Сохранение данных:\n",
    "df1T.to_excel('Источники/transactions_data.xlsx', index=False)"
   ]
  },
  {
   "cell_type": "code",
   "execution_count": 129,
   "id": "958586c1-e840-42b3-87a7-b37a990bae32",
   "metadata": {},
   "outputs": [
    {
     "name": "stdout",
     "output_type": "stream",
     "text": [
      "Empty DataFrame\n",
      "Columns: [transaction_id, client_id, transaction_date, service, amount, payment_method, city, consultant]\n",
      "Index: []\n"
     ]
    }
   ],
   "source": [
    "#Проверка: \n",
    "#Вывод аномальных значений из файла:\n",
    "anomal = df1T[(df1T['amount'] < lower_bound) | (df1T['amount'] > upper_bound)]\n",
    "\n",
    "print(anomal)"
   ]
  },
  {
   "cell_type": "raw",
   "id": "7308bc89-5323-4fc3-86c1-d3f612d0f487",
   "metadata": {},
   "source": [
    "План очистки данных файла Клиентов:\n",
    "-Удалить строки где нет id.\n",
    "-Удалить строки где нет Общей суммы активов. \n",
    "-Удалить строки где нет возраста. \n",
    " \n",
    "..."
   ]
  },
  {
   "cell_type": "code",
   "execution_count": null,
   "id": "f62a89ec-69f1-4861-81dc-f3b78341306b",
   "metadata": {},
   "outputs": [],
   "source": []
  }
 ],
 "metadata": {
  "kernelspec": {
   "display_name": "Python 3 (ipykernel)",
   "language": "python",
   "name": "python3"
  },
  "language_info": {
   "codemirror_mode": {
    "name": "ipython",
    "version": 3
   },
   "file_extension": ".py",
   "mimetype": "text/x-python",
   "name": "python",
   "nbconvert_exporter": "python",
   "pygments_lexer": "ipython3",
   "version": "3.13.3"
  }
 },
 "nbformat": 4,
 "nbformat_minor": 5
}
