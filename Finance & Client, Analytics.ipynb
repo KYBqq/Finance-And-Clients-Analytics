{
 "cells": [
  {
   "cell_type": "markdown",
   "id": "6b3e59ce-8c5b-48d1-a688-865da41ea64a",
   "metadata": {},
   "source": [
    "Задание 1: Анализ финансовых транзакций и клиентов.\n",
    "\n",
    "Описание:\n",
    "\n",
    "В тестовом задании вам предоставляются два набора данных:\n",
    "~~~~~~\n",
    "Файл transactions_data.xlsx (данные о финансовых транзакциях)\n",
    "\n",
    "•\ttransaction_id – уникальный идентификатор транзакции\n",
    "•\tclient_id – идентификатор клиента, совершившего транзакцию\n",
    "•\ttransaction_date – дата проведения транзакции\n",
    "•\tservice – тип оказанной финансовой услуги\n",
    "•\tamount – сумма транзакции (выручка)\n",
    "•\tpayment_method – способ оплаты (банковский перевод, кредитная карта и т. д.)\n",
    "•\tcity – город, в котором была совершена транзакция\n",
    "•\tconsultant – имя финансового консультанта, оформившего транзакцию\n",
    "\n",
    "Файл clients_data.json (данные о клиентах):\n",
    "\n",
    "•\tclient_id – уникальный идентификатор клиента\n",
    "•\tage – возраст клиента\n",
    "•\tgender – пол клиента\n",
    "•\tnet_worth – чистая стоимость активов клиента\n",
    "\n",
    "Данные могут содержать пропуски, ошибки (например, некорректные даты), а также аномальные значения (отрицательные суммы, несуществующие услуги и т. д.), поэтому перед анализом необходимо их очистить и нормализовать.\n",
    "\n",
    "Задачи:\n",
    "\n",
    "1.\tОчистка и подготовка данных. Проверить данные на пропущенные и аномальные значения (например, отрицательные суммы транзакций). Удалить или исправить некорректные данные. Привести формат дат к единому стандарту."
   ]
  },
  {
   "cell_type": "code",
   "execution_count": 3,
   "id": "d014fa99-5d2d-46c2-8cfe-237b7c863730",
   "metadata": {},
   "outputs": [],
   "source": [
    "import pandas as pd"
   ]
  },
  {
   "cell_type": "code",
   "execution_count": 4,
   "id": "00fa3879-e54d-4946-aea4-76f0689b207d",
   "metadata": {},
   "outputs": [],
   "source": [
    "#Чтение файлов:\n",
    "df1T = pd.read_excel('Источники/Транзакции/transactions_data.xlsx')\n",
    "df2C = pd.read_json('Источники/Клиенты/clients_data.json')  "
   ]
  },
  {
   "cell_type": "code",
   "execution_count": 5,
   "id": "be0f4c6e-f137-4f1f-997d-025800f7de9c",
   "metadata": {},
   "outputs": [
    {
     "data": {
      "text/plain": [
       "np.int64(0)"
      ]
     },
     "execution_count": 5,
     "metadata": {},
     "output_type": "execute_result"
    }
   ],
   "source": [
    "#Проверки на дубли:\n",
    "df1T.duplicated().sum()\n",
    "df2C.duplicated().sum()"
   ]
  },
  {
   "cell_type": "code",
   "execution_count": 6,
   "id": "1af7eb6f-e3fa-408a-b3d3-67d0f3db7ac9",
   "metadata": {},
   "outputs": [
    {
     "data": {
      "text/plain": [
       "transaction_id      0\n",
       "client_id           0\n",
       "transaction_date    0\n",
       "service             0\n",
       "amount              0\n",
       "payment_method      0\n",
       "city                0\n",
       "consultant          0\n",
       "dtype: int64"
      ]
     },
     "execution_count": 6,
     "metadata": {},
     "output_type": "execute_result"
    }
   ],
   "source": [
    "#Проверка на пустые значения:\n",
    "df1T.isna().sum() #Проверка на Пустые значения в Транзакциях. \n",
    "\n",
    "#UPD1: Значения по 0 должно быть, после очистки. \n",
    "#UPD2: Есть данные где остальные присутствуют, но нет дат. Заполенено \"INVALID_DATE\".\n",
    "#UPD3: Удалил данные с заменной INVALID_DATE на Nan. "
   ]
  },
  {
   "cell_type": "code",
   "execution_count": 7,
   "id": "0ea3d4e5-efeb-4660-aca6-d7d19ef94fbd",
   "metadata": {},
   "outputs": [
    {
     "data": {
      "text/plain": [
       "id              0\n",
       "age             0\n",
       "gender       2863\n",
       "net_worth       0\n",
       "dtype: int64"
      ]
     },
     "execution_count": 7,
     "metadata": {},
     "output_type": "execute_result"
    }
   ],
   "source": [
    "#Проверка на пустые значения:\n",
    "df2C.isna().sum() #Проверка на Пустые значения в Клиентах."
   ]
  },
  {
   "attachments": {},
   "cell_type": "markdown",
   "id": "415f0c7a-b450-438b-a2c7-bba7de9ba084",
   "metadata": {},
   "source": [
    "План очистки данных файла Транзакции:\n",
    "\n",
    "Удалю данные: \n",
    "~~~\n",
    "-Где нет id транзакции. Нет указаний, в тестовом задании, что с ним делать. И пока нет возможности спросить как откуда до грузить id. \n",
    "-Где нет id клиента в файле транзакции. Тоже самое.\n",
    "-Где есть поле \"Неизвестная услуга\". Тоже самое. \n",
    "-Где нет в поле \"transaction_date\" даты. Пока под вопросомю.\n",
    "\n",
    "UPD1: И ещё есть формат где даты нет, но остальные данные на месте. По итогу оставили данные где нет дат, но остальные данные есть. \n",
    "\n",
    "UPD2:Пока не трогаю данные где есть \"Неизвестный консультант\" и city - \"Неизвестный город\"\n",
    "\n",
    "UPD3:Удалил данные где пропуск дат, возможно буду мешать прогнозированию. "
   ]
  },
  {
   "cell_type": "code",
   "execution_count": 8,
   "id": "9ae10d42-6341-45a4-9a64-222ec3a4882e",
   "metadata": {},
   "outputs": [],
   "source": [
    "#Очистка данных на пустые значения файла Транзакции:\n",
    "df1T = df1T.dropna() \n",
    "\n",
    "#Провоерка выше."
   ]
  },
  {
   "cell_type": "code",
   "execution_count": 9,
   "id": "f2ebfa1f-3e27-486f-b162-30367cf623ed",
   "metadata": {},
   "outputs": [],
   "source": [
    "#Сохранение данных:\n",
    "df1T.to_excel('Источники/Транзакции/transactions_data.xlsx', index=False)"
   ]
  },
  {
   "cell_type": "code",
   "execution_count": 10,
   "id": "e1e13c98-43bc-4e35-8237-c8db9708f010",
   "metadata": {},
   "outputs": [],
   "source": [
    "#Замена INVALID_DATE на Nan\n",
    "\n",
    "df1T['transaction_date'] = pd.to_datetime(df1T['transaction_date'], errors='coerce')\n",
    "\n",
    "#Дает ошибку, если за ранее не изменнить.\n",
    "#\"Unknown datetime string format, unable to parse: INVALID_DATE, at position 15\"."
   ]
  },
  {
   "cell_type": "code",
   "execution_count": 11,
   "id": "e86590a6-db43-4308-b090-f70574347d0e",
   "metadata": {},
   "outputs": [],
   "source": [
    "#Преобразование дат к одному в формату:\n",
    "df1T['transaction_date'] = pd.to_datetime(df1T['transaction_date'])\n",
    "#Приведение всех дат к одному формату с точностью до секунд:\n",
    "df1T['transaction_date'] = df1T['transaction_date'].dt.strftime('%Y-%m-%d %H:%M:%S')"
   ]
  },
  {
   "cell_type": "raw",
   "id": "957757e7-772a-425d-9318-77895b1c18d4",
   "metadata": {},
   "source": [
    "Проверим, может есть данные где нет дат, но остальные данные целостные. "
   ]
  },
  {
   "cell_type": "code",
   "execution_count": 12,
   "id": "9a330b13-dc96-449c-9877-9e0791226885",
   "metadata": {},
   "outputs": [],
   "source": [
    "#Сохранение данных:\n",
    "df1T.to_excel('Источники/Транзакции/transactions_data.xlsx', index=False)"
   ]
  },
  {
   "cell_type": "markdown",
   "id": "e60a3e01-2e1f-41b7-b8b4-b3cd6bcc6808",
   "metadata": {},
   "source": [
    "Есть файлы где нет даты, но остальные в норме. Продолжим удаление, но по условиям. \n",
    "*Открыл вручуную файл Excel.*. "
   ]
  },
  {
   "cell_type": "code",
   "execution_count": 13,
   "id": "c1315a42-518b-48e3-8acc-f5ab799849ba",
   "metadata": {},
   "outputs": [],
   "source": [
    "#Очистка данных на пустые значения файла Транзакции:\n",
    "df1T = df1T.dropna() \n",
    "\n",
    "#Пересмотрел план, удаляю данные где нет даты. Так как, возможно, будет мешать прогнозированию."
   ]
  },
  {
   "cell_type": "code",
   "execution_count": 14,
   "id": "629a9037-9ce9-4c60-b7b3-dc572ceb6169",
   "metadata": {},
   "outputs": [],
   "source": [
    "#Удаление строк с \"Неизвестной услугой\":\n",
    "df1T = df1T[df1T['service'] != 'Неизвестная услуга']"
   ]
  },
  {
   "cell_type": "code",
   "execution_count": 15,
   "id": "224254ad-3db6-4ad0-ac55-08200156ca15",
   "metadata": {},
   "outputs": [],
   "source": [
    "#Сохранение данных:\n",
    "df1T.to_excel('Источники/Транзакции/transactions_data.xlsx', index=False)"
   ]
  },
  {
   "cell_type": "code",
   "execution_count": 16,
   "id": "ad776aab-cd04-41cf-a422-556ad4b10173",
   "metadata": {},
   "outputs": [
    {
     "name": "stdout",
     "output_type": "stream",
     "text": [
      "0\n",
      "145183.82273751637\n"
     ]
    }
   ],
   "source": [
    "#Продолжаем очистку, теперь зайдем со стороны аномальных значений:\n",
    "#Использую \"Межквартильный размах\" (IQR). \n",
    "\n",
    "# Рассчитываем первый и третий квартели, чтобы посчитать IQR.\n",
    "Q1 = df1T['amount'].quantile(0.25)\n",
    "Q3 = df1T['amount'].quantile(0.75)\n",
    "\n",
    "#Расчитываем IQR:\n",
    "IQR = Q3 - Q1\n",
    "\n",
    "#Устанавливаем границы \n",
    "lower_bound = max(0, Q1 - 1.5 * IQR) #Нижняя. Нижняя не может быть меньше 0. (...отрицательные суммы).\n",
    "upper_bound = Q3 + 1.5 * IQR #Верхняя.\n",
    "\n",
    "#Вывод границ: \n",
    "print(lower_bound)\n",
    "print(upper_bound)"
   ]
  },
  {
   "cell_type": "code",
   "execution_count": 17,
   "id": "4ad63f29-77dd-4e46-ae52-2574d4d93cb0",
   "metadata": {},
   "outputs": [
    {
     "name": "stdout",
     "output_type": "stream",
     "text": [
      "                              service         amount\n",
      "21            Финансовое планирование  147439.369086\n",
      "411   Инвестиционное консультирование  145713.605919\n",
      "445   Инвестиционное консультирование  149546.564423\n",
      "454            Налоговое планирование  149407.108459\n",
      "569   Инвестиционное консультирование  146218.600215\n",
      "903            Налоговое планирование  147333.389591\n",
      "1524  Инвестиционное консультирование  148549.499778\n",
      "2782              Управление активами  145912.853299\n",
      "2830          Финансовое планирование  147667.516120\n",
      "2938          Финансовое планирование  148470.649643\n",
      "3084          Финансовое планирование  147064.285766\n",
      "3539        Структурирование капитала  145827.584354\n",
      "4109  Инвестиционное консультирование  146821.816904\n",
      "5030           Налоговое планирование  146609.123497\n",
      "5487  Инвестиционное консультирование  148873.575903\n",
      "5599  Инвестиционное консультирование  147194.185379\n",
      "5829  Инвестиционное консультирование  147704.029797\n",
      "6338  Инвестиционное консультирование  145955.229808\n",
      "6394  Инвестиционное консультирование  148417.287031\n",
      "6751  Инвестиционное консультирование  145751.283641\n",
      "6987          Финансовое планирование  147700.345858\n",
      "7026  Инвестиционное консультирование  145708.113280\n",
      "7079  Инвестиционное консультирование  145315.115800\n"
     ]
    }
   ],
   "source": [
    "#Вывод аномальных значений из файла:\n",
    "anomal = df1T[(df1T['amount'] < lower_bound) | (df1T['amount'] > upper_bound)]\n",
    "print(anomal[['service','amount']])"
   ]
  },
  {
   "cell_type": "code",
   "execution_count": 18,
   "id": "3beae288-c4af-4afd-94b6-3286e64dbf68",
   "metadata": {},
   "outputs": [],
   "source": [
    "#Удаление аномальных значений: \n",
    "df1T = df1T[(df1T['amount'] >= lower_bound) & (df1T['amount'] <= upper_bound)] "
   ]
  },
  {
   "cell_type": "code",
   "execution_count": 19,
   "id": "eed8cd39-e51a-4f7c-ae9e-01d0cfdb75cd",
   "metadata": {},
   "outputs": [],
   "source": [
    "#Сохранение данных:\n",
    "df1T.to_excel('Источники/Транзакции/transactions_data.xlsx', index=False)"
   ]
  },
  {
   "cell_type": "code",
   "execution_count": 20,
   "id": "958586c1-e840-42b3-87a7-b37a990bae32",
   "metadata": {},
   "outputs": [
    {
     "name": "stdout",
     "output_type": "stream",
     "text": [
      "Empty DataFrame\n",
      "Columns: [transaction_id, client_id, transaction_date, service, amount, payment_method, city, consultant]\n",
      "Index: []\n"
     ]
    }
   ],
   "source": [
    "#Проверка: \n",
    "#Вывод аномальных значений из файла Транзакций:\n",
    "anomal = df1T[(df1T['amount'] < lower_bound) | (df1T['amount'] > upper_bound)]\n",
    "\n",
    "#Вывод:\n",
    "print(anomal)"
   ]
  },
  {
   "cell_type": "markdown",
   "id": "2addf39f-b994-4a76-8abb-d550c0357a16",
   "metadata": {},
   "source": [
    "План очистки данных файла Клиентов:\n",
    "~~~\n",
    "-Удалить строки где нет id.\n",
    "-Удалить строки где нет Общей суммы активов. \n",
    "-Удалить строки где нет возраста. \n",
    "\n",
    "*Пока не удаляю данные где нет пола, так как в задаче, вижу особо он не фигурирует, и может не влиять особо на анализ. Возможно в процессе что-то поменяю. "
   ]
  },
  {
   "cell_type": "code",
   "execution_count": 21,
   "id": "562f1123-e81d-4338-b6ce-1516c5293920",
   "metadata": {},
   "outputs": [],
   "source": [
    "#Очистка данных на пустые значения файла Клиентов, где нет id:\n",
    "df2C = df2C.dropna(subset=['id'])"
   ]
  },
  {
   "cell_type": "code",
   "execution_count": 22,
   "id": "e42eeee8-622b-4a56-9c87-216fd6fb0cc1",
   "metadata": {},
   "outputs": [],
   "source": [
    "#Очистка данных на пустые значения файла Клиентов, где нет общей суммы активов:\n",
    "df2C = df2C.dropna(subset=['net_worth'])"
   ]
  },
  {
   "cell_type": "code",
   "execution_count": 23,
   "id": "e23f58db-bc1b-4374-99d5-8ee5b949bec8",
   "metadata": {},
   "outputs": [],
   "source": [
    "#Очистка данных на пустые значения файла Клиентов, где нет возраста:\n",
    "df2C = df2C.dropna(subset=['age'])"
   ]
  },
  {
   "cell_type": "code",
   "execution_count": 24,
   "id": "5b8bb7f4-fd17-451b-b04a-e06f283ff259",
   "metadata": {},
   "outputs": [],
   "source": [
    "#Сохранение данных:\n",
    "df2C.to_json('Источники/Клиенты/clients_data.json', index=False)"
   ]
  },
  {
   "cell_type": "code",
   "execution_count": 25,
   "id": "a5365180-9148-48ae-a5ca-844d6843354b",
   "metadata": {},
   "outputs": [
    {
     "name": "stdout",
     "output_type": "stream",
     "text": [
      "Empty DataFrame\n",
      "Columns: [id, net_worth]\n",
      "Index: []\n"
     ]
    }
   ],
   "source": [
    "#Проверка на аномальные значения капитала, отрицательные значения:\n",
    "munuscap = df2C[df2C['net_worth'] < 0] #Проверим сначала, есть ли отрицательные значения. \n",
    "print(munuscap[['id', 'net_worth']])"
   ]
  },
  {
   "cell_type": "code",
   "execution_count": 26,
   "id": "79729bc6-6fa2-42c8-9abe-b1a93b8d212b",
   "metadata": {},
   "outputs": [
    {
     "name": "stdout",
     "output_type": "stream",
     "text": [
      "0\n",
      "7400150.275\n"
     ]
    }
   ],
   "source": [
    "#Теперь зайдем со стороны \"Межквартильный размах\" (IQR):\n",
    "\n",
    "# Рассчитываем первый и третий квартели, чтобы посчитать IQR.\n",
    "Q1C = df2C['net_worth'].quantile(0.25)\n",
    "Q3C = df2C['net_worth'].quantile(0.75)\n",
    "\n",
    "#Расчитываем IQR:\n",
    "IQR_C = Q3C - Q1C\n",
    "\n",
    "#Устанавливаем границы \n",
    "lower_boundC = max(0, Q1C - 1.5 * IQR_C) #Нижняя. Нижняя не может быть меньше 0. (...отрицательные суммы).\n",
    "upper_boundC = Q3C + 1.5 * IQR_C #Верхняя.\n",
    "\n",
    "#Вывод границ: \n",
    "print(lower_boundC)\n",
    "print(upper_boundC)\n"
   ]
  },
  {
   "cell_type": "code",
   "execution_count": 27,
   "id": "25ef397f-1c89-484f-8346-2418d76c3cfe",
   "metadata": {},
   "outputs": [
    {
     "name": "stdout",
     "output_type": "stream",
     "text": [
      "Empty DataFrame\n",
      "Columns: [id, age, gender, net_worth]\n",
      "Index: []\n"
     ]
    }
   ],
   "source": [
    "#Проверка: \n",
    "#Вывод аномальных значений из файла Клиентов:\n",
    "anomalC = df2C[(df2C['net_worth'] < lower_boundC) | (df2C['net_worth'] > upper_boundC)]\n",
    "\n",
    "#Вывод:\n",
    "print(anomalC)"
   ]
  },
  {
   "cell_type": "code",
   "execution_count": 28,
   "id": "05aade68-1ac3-490c-a480-7ce7e4971761",
   "metadata": {},
   "outputs": [],
   "source": [
    "#Сохранение данных:\n",
    "df2C.to_json('Источники/Клиенты/clients_data.json', index=False)"
   ]
  },
  {
   "cell_type": "markdown",
   "id": "2921973c-e91c-4ec2-9ac0-21fed7a383c2",
   "metadata": {},
   "source": [
    "Закончили очистку. Далее. \n",
    "\n",
    "Задачи:  \n",
    "\n",
    "2.  Анализ данных.\n",
    "~~~\n",
    "-Определить топ-5 наиболее популярных услуг по количеству заказов. \n",
    "-Рассчитать среднюю сумму транзакций по каждому городу. \n",
    "-Определить услугу с наибольшей выручкой (по сумме amount). \n",
    "-Вычислить процент транзакций по способам оплаты (наличные, банковский перевод и т. д.). \n",
    "-Рассчитать выручку за последний месяц (по сумме amount)."
   ]
  },
  {
   "cell_type": "code",
   "execution_count": 51,
   "id": "c57d51a4-25b7-4723-ad25-3033880af6e4",
   "metadata": {},
   "outputs": [
    {
     "name": "stdout",
     "output_type": "stream",
     "text": [
      "service\n",
      "Инвестиционное консультирование    1912\n",
      "Управление активами                1569\n",
      "Финансовое планирование            1213\n",
      "Налоговое планирование             1186\n",
      "Структурирование капитала          1181\n",
      "dtype: int64\n"
     ]
    }
   ],
   "source": [
    "#Топ-5 наиболее популярных услуг по количеству заказов:\n",
    "TOP_5 = df1T.groupby('service').size().nlargest(5) \n",
    "print(TOP_5)\n",
    "#.groupby - группировка. \n",
    "#.nlargest - возвращает самые большие значения из серии. \n",
    "#.size подсчет по колонке. "
   ]
  }
 ],
 "metadata": {
  "kernelspec": {
   "display_name": "Python 3 (ipykernel)",
   "language": "python",
   "name": "python3"
  },
  "language_info": {
   "codemirror_mode": {
    "name": "ipython",
    "version": 3
   },
   "file_extension": ".py",
   "mimetype": "text/x-python",
   "name": "python",
   "nbconvert_exporter": "python",
   "pygments_lexer": "ipython3",
   "version": "3.13.3"
  }
 },
 "nbformat": 4,
 "nbformat_minor": 5
}
