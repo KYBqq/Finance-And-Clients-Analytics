{
 "cells": [
  {
   "cell_type": "markdown",
   "id": "6b3e59ce-8c5b-48d1-a688-865da41ea64a",
   "metadata": {},
   "source": [
    "Задание 1: Анализ финансовых транзакций и клиентов.\n",
    "\n",
    "Описание:\n",
    "\n",
    "В тестовом задании вам предоставляются два набора данных:\n",
    "~~~~~~\n",
    "Файл transactions_data.xlsx (данные о финансовых транзакциях)\n",
    "\n",
    "•\ttransaction_id – уникальный идентификатор транзакции\n",
    "•\tclient_id – идентификатор клиента, совершившего транзакцию\n",
    "•\ttransaction_date – дата проведения транзакции\n",
    "•\tservice – тип оказанной финансовой услуги\n",
    "•\tamount – сумма транзакции (выручка)\n",
    "•\tpayment_method – способ оплаты (банковский перевод, кредитная карта и т. д.)\n",
    "•\tcity – город, в котором была совершена транзакция\n",
    "•\tconsultant – имя финансового консультанта, оформившего транзакцию\n",
    "\n",
    "Файл clients_data.json (данные о клиентах):\n",
    "\n",
    "•\tclient_id – уникальный идентификатор клиента\n",
    "•\tage – возраст клиента\n",
    "•\tgender – пол клиента\n",
    "•\tnet_worth – чистая стоимость активов клиента\n",
    "\n",
    "Данные могут содержать пропуски, ошибки (например, некорректные даты), а также аномальные значения (отрицательные суммы, несуществующие услуги и т. д.), поэтому перед анализом необходимо их очистить и нормализовать.\n",
    "\n",
    "Задачи:\n",
    "\n",
    "1.\tОчистка и подготовка данных. Проверить данные на пропущенные и аномальные значения (например, отрицательные суммы транзакций). Удалить или исправить некорректные данные. Привести формат дат к единому стандарту."
   ]
  },
  {
   "cell_type": "code",
   "execution_count": 5,
   "id": "d014fa99-5d2d-46c2-8cfe-237b7c863730",
   "metadata": {},
   "outputs": [],
   "source": [
    "import pandas as pd"
   ]
  },
  {
   "cell_type": "code",
   "execution_count": 6,
   "id": "00fa3879-e54d-4946-aea4-76f0689b207d",
   "metadata": {},
   "outputs": [],
   "source": [
    "#Чтение файлов:\n",
    "df1T = pd.read_excel('Источники/Транзакции/transactions_data.xlsx')\n",
    "df2C = pd.read_json('Источники/Клиенты/clients_data.json')  "
   ]
  },
  {
   "cell_type": "code",
   "execution_count": 7,
   "id": "be0f4c6e-f137-4f1f-997d-025800f7de9c",
   "metadata": {},
   "outputs": [
    {
     "data": {
      "text/plain": [
       "np.int64(0)"
      ]
     },
     "execution_count": 7,
     "metadata": {},
     "output_type": "execute_result"
    }
   ],
   "source": [
    "#Проверки на дубли:\n",
    "df1T.duplicated().sum()\n",
    "df2C.duplicated().sum()"
   ]
  },
  {
   "cell_type": "code",
   "execution_count": 8,
   "id": "1af7eb6f-e3fa-408a-b3d3-67d0f3db7ac9",
   "metadata": {},
   "outputs": [
    {
     "data": {
      "text/plain": [
       "transaction_id      0\n",
       "client_id           0\n",
       "transaction_date    0\n",
       "service             0\n",
       "amount              0\n",
       "payment_method      0\n",
       "city                0\n",
       "consultant          0\n",
       "dtype: int64"
      ]
     },
     "execution_count": 8,
     "metadata": {},
     "output_type": "execute_result"
    }
   ],
   "source": [
    "#Проверка на пустые значения:\n",
    "df1T.isna().sum() #Проверка на Пустые значения в Транзакциях. \n",
    "\n",
    "#UPD1: Значения по 0 должно быть, после очистки. \n",
    "#UPD2: Есть данные где остальные присутствуют, но нет дат. Заполенено \"INVALID_DATE\".\n",
    "#UPD3: Удалил данные с заменной INVALID_DATE на Nan. "
   ]
  },
  {
   "cell_type": "code",
   "execution_count": 9,
   "id": "0ea3d4e5-efeb-4660-aca6-d7d19ef94fbd",
   "metadata": {},
   "outputs": [
    {
     "data": {
      "text/plain": [
       "id              0\n",
       "age             0\n",
       "gender       2863\n",
       "net_worth       0\n",
       "dtype: int64"
      ]
     },
     "execution_count": 9,
     "metadata": {},
     "output_type": "execute_result"
    }
   ],
   "source": [
    "#Проверка на пустые значения:\n",
    "df2C.isna().sum() #Проверка на Пустые значения в Клиентах."
   ]
  },
  {
   "attachments": {},
   "cell_type": "markdown",
   "id": "415f0c7a-b450-438b-a2c7-bba7de9ba084",
   "metadata": {},
   "source": [
    "План очистки данных файла Транзакции:\n",
    "\n",
    "Удалю данные: \n",
    "~~~\n",
    "-Где нет id транзакции. Нет указаний, в тестовом задании, что с ним делать. И пока нет возможности спросить как откуда до грузить id. \n",
    "-Где нет id клиента в файле транзакции. Тоже самое.\n",
    "-Где есть поле \"Неизвестная услуга\". Тоже самое. \n",
    "-Где нет в поле \"transaction_date\" даты. Пока под вопросомю.\n",
    "\n",
    "UPD1: И ещё есть формат где даты нет, но остальные данные на месте. По итогу оставили данные где нет дат, но остальные данные есть. \n",
    "\n",
    "UPD2:Пока не трогаю данные где есть \"Неизвестный консультант\" и city - \"Неизвестный город\"\n",
    "\n",
    "UPD3:Удалил данные где пропуск дат, возможно буду мешать прогнозированию.\n",
    "\n",
    "UPD4:Удалил данные где city - \"Неизвестный город\". Имеет незначительные суммы. "
   ]
  },
  {
   "cell_type": "code",
   "execution_count": 10,
   "id": "9ae10d42-6341-45a4-9a64-222ec3a4882e",
   "metadata": {},
   "outputs": [],
   "source": [
    "#Очистка данных на пустые значения файла Транзакции:\n",
    "df1T = df1T.dropna() \n",
    "\n",
    "#Провоерка выше."
   ]
  },
  {
   "cell_type": "code",
   "execution_count": 11,
   "id": "f2ebfa1f-3e27-486f-b162-30367cf623ed",
   "metadata": {},
   "outputs": [],
   "source": [
    "#Сохранение данных:\n",
    "df1T.to_excel('Источники/Транзакции/transactions_data.xlsx', index=False)"
   ]
  },
  {
   "cell_type": "code",
   "execution_count": 12,
   "id": "e1e13c98-43bc-4e35-8237-c8db9708f010",
   "metadata": {},
   "outputs": [],
   "source": [
    "#Замена INVALID_DATE на Nan\n",
    "#Конвертация в тип данных datetime.\n",
    "\n",
    "df1T['transaction_date'] = pd.to_datetime(df1T['transaction_date'], errors='coerce')\n",
    "\n",
    "#Дает ошибку, если за ранее не изменнить.\n",
    "#\"Unknown datetime string format, unable to parse: INVALID_DATE, at position 15\"."
   ]
  },
  {
   "cell_type": "code",
   "execution_count": 13,
   "id": "e86590a6-db43-4308-b090-f70574347d0e",
   "metadata": {},
   "outputs": [],
   "source": [
    "#Преобразование дат к одному в формату:\n",
    "df1T['transaction_date'] = pd.to_datetime(df1T['transaction_date'])\n",
    "#Приведение всех дат к одному формату с точностью до секунд:\n",
    "df1T['transaction_date'] = df1T['transaction_date'].dt.strftime('%Y-%m-%d %H:%M:%S')"
   ]
  },
  {
   "cell_type": "raw",
   "id": "957757e7-772a-425d-9318-77895b1c18d4",
   "metadata": {},
   "source": [
    "Проверим, может есть данные где нет дат, но остальные данные целостные. "
   ]
  },
  {
   "cell_type": "code",
   "execution_count": 14,
   "id": "9a330b13-dc96-449c-9877-9e0791226885",
   "metadata": {},
   "outputs": [],
   "source": [
    "#Сохранение данных:\n",
    "df1T.to_excel('Источники/Транзакции/transactions_data.xlsx', index=False)"
   ]
  },
  {
   "cell_type": "markdown",
   "id": "e60a3e01-2e1f-41b7-b8b4-b3cd6bcc6808",
   "metadata": {},
   "source": [
    "Есть файлы где нет даты, но остальные в норме. Продолжим удаление, но по условиям. \n",
    "*Открыл вручуную файл Excel.*. "
   ]
  },
  {
   "cell_type": "code",
   "execution_count": 15,
   "id": "c1315a42-518b-48e3-8acc-f5ab799849ba",
   "metadata": {},
   "outputs": [],
   "source": [
    "#Очистка данных на пустые значения файла Транзакции:\n",
    "df1T = df1T.dropna() \n",
    "\n",
    "#Пересмотрел план, удаляю данные где нет даты. Так как, возможно, будет мешать прогнозированию."
   ]
  },
  {
   "cell_type": "code",
   "execution_count": 16,
   "id": "629a9037-9ce9-4c60-b7b3-dc572ceb6169",
   "metadata": {},
   "outputs": [],
   "source": [
    "#Удаление строк с \"Неизвестной услугой\":\n",
    "df1T = df1T[df1T['service'] != 'Неизвестная услуга']"
   ]
  },
  {
   "cell_type": "code",
   "execution_count": 17,
   "id": "b3d2a965-db12-400d-a7ee-694c7e0d2080",
   "metadata": {},
   "outputs": [],
   "source": [
    "#Удаление строк с \"Неизвестный город\":\n",
    "df1T = df1T[df1T['city'] != 'Неизвестный город'] "
   ]
  },
  {
   "cell_type": "code",
   "execution_count": 18,
   "id": "224254ad-3db6-4ad0-ac55-08200156ca15",
   "metadata": {},
   "outputs": [],
   "source": [
    "#Сохранение данных:\n",
    "df1T.to_excel('Источники/Транзакции/transactions_data.xlsx', index=False)"
   ]
  },
  {
   "cell_type": "code",
   "execution_count": 19,
   "id": "ad776aab-cd04-41cf-a422-556ad4b10173",
   "metadata": {},
   "outputs": [
    {
     "name": "stdout",
     "output_type": "stream",
     "text": [
      "0\n",
      "144672.8060589068\n"
     ]
    }
   ],
   "source": [
    "#Продолжаем очистку, теперь зайдем со стороны аномальных значений:\n",
    "#Использую \"Межквартильный размах\" (IQR). \n",
    "\n",
    "# Рассчитываем первый и третий квартели, чтобы посчитать IQR.\n",
    "Q1 = df1T['amount'].quantile(0.25)\n",
    "Q3 = df1T['amount'].quantile(0.75)\n",
    "\n",
    "#Расчитываем IQR:\n",
    "IQR = Q3 - Q1\n",
    "\n",
    "#Устанавливаем границы \n",
    "lower_bound = max(0, Q1 - 1.5 * IQR) #Нижняя. Нижняя не может быть меньше 0. (...отрицательные суммы).\n",
    "upper_bound = Q3 + 1.5 * IQR #Верхняя.\n",
    "\n",
    "#Вывод границ: \n",
    "print(lower_bound)\n",
    "print(upper_bound)"
   ]
  },
  {
   "cell_type": "code",
   "execution_count": 20,
   "id": "4ad63f29-77dd-4e46-ae52-2574d4d93cb0",
   "metadata": {},
   "outputs": [
    {
     "name": "stdout",
     "output_type": "stream",
     "text": [
      "Empty DataFrame\n",
      "Columns: [service, amount]\n",
      "Index: []\n"
     ]
    }
   ],
   "source": [
    "#Вывод аномальных значений из файла:\n",
    "anomal = df1T[(df1T['amount'] < lower_bound) | (df1T['amount'] > upper_bound)]\n",
    "print(anomal[['service','amount']])"
   ]
  },
  {
   "cell_type": "code",
   "execution_count": 21,
   "id": "3beae288-c4af-4afd-94b6-3286e64dbf68",
   "metadata": {},
   "outputs": [],
   "source": [
    "#Удаление аномальных значений: \n",
    "df1T = df1T[(df1T['amount'] >= lower_bound) & (df1T['amount'] <= upper_bound)] "
   ]
  },
  {
   "cell_type": "code",
   "execution_count": 22,
   "id": "eed8cd39-e51a-4f7c-ae9e-01d0cfdb75cd",
   "metadata": {},
   "outputs": [],
   "source": [
    "#Сохранение данных:\n",
    "df1T.to_excel('Источники/Транзакции/transactions_data.xlsx', index=False)"
   ]
  },
  {
   "cell_type": "code",
   "execution_count": 23,
   "id": "958586c1-e840-42b3-87a7-b37a990bae32",
   "metadata": {},
   "outputs": [
    {
     "name": "stdout",
     "output_type": "stream",
     "text": [
      "Empty DataFrame\n",
      "Columns: [transaction_id, client_id, transaction_date, service, amount, payment_method, city, consultant]\n",
      "Index: []\n"
     ]
    }
   ],
   "source": [
    "#Проверка: \n",
    "#Вывод аномальных значений из файла Транзакций:\n",
    "anomal = df1T[(df1T['amount'] < lower_bound) | (df1T['amount'] > upper_bound)]\n",
    "\n",
    "#Вывод:\n",
    "print(anomal)"
   ]
  },
  {
   "cell_type": "markdown",
   "id": "2addf39f-b994-4a76-8abb-d550c0357a16",
   "metadata": {},
   "source": [
    "План очистки данных файла Клиентов:\n",
    "~~~\n",
    "-Удалить строки где нет id.\n",
    "-Удалить строки где нет Общей суммы активов. \n",
    "-Удалить строки где нет возраста. \n",
    "\n",
    "*Пока не удаляю данные где нет пола, так как в задаче, вижу особо он не фигурирует, и может не влиять особо на анализ. Возможно в процессе что-то поменяю. "
   ]
  },
  {
   "cell_type": "code",
   "execution_count": 24,
   "id": "562f1123-e81d-4338-b6ce-1516c5293920",
   "metadata": {},
   "outputs": [],
   "source": [
    "#Очистка данных на пустые значения файла Клиентов, где нет id:\n",
    "df2C = df2C.dropna(subset=['id'])"
   ]
  },
  {
   "cell_type": "code",
   "execution_count": 25,
   "id": "e42eeee8-622b-4a56-9c87-216fd6fb0cc1",
   "metadata": {},
   "outputs": [],
   "source": [
    "#Очистка данных на пустые значения файла Клиентов, где нет общей суммы активов:\n",
    "df2C = df2C.dropna(subset=['net_worth'])"
   ]
  },
  {
   "cell_type": "code",
   "execution_count": 26,
   "id": "e23f58db-bc1b-4374-99d5-8ee5b949bec8",
   "metadata": {},
   "outputs": [],
   "source": [
    "#Очистка данных на пустые значения файла Клиентов, где нет возраста:\n",
    "df2C = df2C.dropna(subset=['age'])"
   ]
  },
  {
   "cell_type": "code",
   "execution_count": 27,
   "id": "5b8bb7f4-fd17-451b-b04a-e06f283ff259",
   "metadata": {},
   "outputs": [],
   "source": [
    "#Сохранение данных:\n",
    "df2C.to_json('Источники/Клиенты/clients_data.json', index=False)"
   ]
  },
  {
   "cell_type": "code",
   "execution_count": 28,
   "id": "a5365180-9148-48ae-a5ca-844d6843354b",
   "metadata": {},
   "outputs": [
    {
     "name": "stdout",
     "output_type": "stream",
     "text": [
      "Empty DataFrame\n",
      "Columns: [id, net_worth]\n",
      "Index: []\n"
     ]
    }
   ],
   "source": [
    "#Проверка на аномальные значения капитала, отрицательные значения:\n",
    "munuscap = df2C[df2C['net_worth'] < 0] #Проверим сначала, есть ли отрицательные значения. \n",
    "print(munuscap[['id', 'net_worth']])"
   ]
  },
  {
   "cell_type": "code",
   "execution_count": 29,
   "id": "79729bc6-6fa2-42c8-9abe-b1a93b8d212b",
   "metadata": {},
   "outputs": [
    {
     "name": "stdout",
     "output_type": "stream",
     "text": [
      "0\n",
      "7400150.275\n"
     ]
    }
   ],
   "source": [
    "#Теперь зайдем со стороны \"Межквартильный размах\" (IQR):\n",
    "\n",
    "# Рассчитываем первый и третий квартели, чтобы посчитать IQR.\n",
    "Q1C = df2C['net_worth'].quantile(0.25)\n",
    "Q3C = df2C['net_worth'].quantile(0.75)\n",
    "\n",
    "#Расчитываем IQR:\n",
    "IQR_C = Q3C - Q1C\n",
    "\n",
    "#Устанавливаем границы \n",
    "lower_boundC = max(0, Q1C - 1.5 * IQR_C) #Нижняя. Нижняя не может быть меньше 0. (...отрицательные суммы).\n",
    "upper_boundC = Q3C + 1.5 * IQR_C #Верхняя.\n",
    "\n",
    "#Вывод границ: \n",
    "print(lower_boundC)\n",
    "print(upper_boundC)\n"
   ]
  },
  {
   "cell_type": "code",
   "execution_count": 30,
   "id": "25ef397f-1c89-484f-8346-2418d76c3cfe",
   "metadata": {},
   "outputs": [
    {
     "name": "stdout",
     "output_type": "stream",
     "text": [
      "Empty DataFrame\n",
      "Columns: [id, age, gender, net_worth]\n",
      "Index: []\n"
     ]
    }
   ],
   "source": [
    "#Проверка: \n",
    "#Вывод аномальных значений из файла Клиентов:\n",
    "anomalC = df2C[(df2C['net_worth'] < lower_boundC) | (df2C['net_worth'] > upper_boundC)]\n",
    "\n",
    "#Вывод:\n",
    "print(anomalC)"
   ]
  },
  {
   "cell_type": "code",
   "execution_count": 31,
   "id": "05aade68-1ac3-490c-a480-7ce7e4971761",
   "metadata": {},
   "outputs": [],
   "source": [
    "#Сохранение данных:\n",
    "df2C.to_json('Источники/Клиенты/clients_data.json', index=False)"
   ]
  },
  {
   "cell_type": "markdown",
   "id": "2921973c-e91c-4ec2-9ac0-21fed7a383c2",
   "metadata": {},
   "source": [
    "Закончили очистку. Далее. \n",
    "\n",
    "Задачи:  \n",
    "\n",
    "2.  Анализ данных.\n",
    "~~~\n",
    "-Определить топ-5 наиболее популярных услуг по количеству заказов. \n",
    "-Рассчитать среднюю сумму транзакций по каждому городу. \n",
    "-Определить услугу с наибольшей выручкой (по сумме amount). \n",
    "-Вычислить процент транзакций по способам оплаты (наличные, банковский перевод и т. д.). \n",
    "-Рассчитать выручку за последний месяц (по сумме amount)."
   ]
  },
  {
   "cell_type": "code",
   "execution_count": 32,
   "id": "c57d51a4-25b7-4723-ad25-3033880af6e4",
   "metadata": {},
   "outputs": [
    {
     "name": "stdout",
     "output_type": "stream",
     "text": [
      "service\n",
      "Инвестиционное консультирование    1853\n",
      "Управление активами                1501\n",
      "Финансовое планирование            1152\n",
      "Структурирование капитала          1137\n",
      "Налоговое планирование             1135\n",
      "dtype: int64\n"
     ]
    }
   ],
   "source": [
    "#Топ-5 наиболее популярных услуг по количеству заказов:\n",
    "TOP_5 = df1T.groupby('service').size().nlargest(5)\n",
    "\n",
    "print(TOP_5)\n",
    "\n",
    "#.groupby - группировка. \n",
    "#.nlargest - возвращает самые большие значения из серии. \n",
    "#.size подсчет по колонке. "
   ]
  },
  {
   "cell_type": "code",
   "execution_count": 33,
   "id": "915d5ee6-0724-4753-ad2c-bff213b2678f",
   "metadata": {},
   "outputs": [
    {
     "name": "stdout",
     "output_type": "stream",
     "text": [
      "city\n",
      "Michellehaven         53857.630148\n",
      "Port Michellemouth    52526.358695\n",
      "East Rachelmouth      52267.155404\n",
      "New Tommyborough      51694.384402\n",
      "North Lauriebury      51565.637733\n",
      "Kaneburgh             50241.246293\n",
      "Krystalland           50225.474339\n",
      "New Zacharyport       49958.015951\n",
      "North Melissaland     49833.214548\n",
      "Lake Tina             49697.144878\n",
      "North Emily           49532.672195\n",
      "South Andrew          48945.780478\n",
      "Erichaven             48445.104384\n",
      "Patelbury             48397.268726\n",
      "Trevinoberg           48088.369661\n",
      "Mayoberg              47611.356990\n",
      "Harrisberg            47599.901371\n",
      "Port James            47547.353263\n",
      "Dannyburgh            47461.758972\n",
      "Port Jordan           47405.488841\n",
      "Hamiltontown          47324.161695\n",
      "West Meredithhaven    47277.012122\n",
      "Bondstad              47174.092961\n",
      "Davidsonborough       47170.088036\n",
      "East Matthewmouth     46990.980835\n",
      "Johnsonfort           46713.260789\n",
      "East Melissaville     46648.216060\n",
      "New Chelseaberg       46213.003047\n",
      "Ibarramouth           46211.691582\n",
      "South Thomas          46156.782594\n",
      "Lake Arielmouth       46115.495436\n",
      "Aprilstad             45804.592570\n",
      "Ronaldville           45649.932302\n",
      "North Patrickport     45597.313663\n",
      "Jeanettetown          45566.943738\n",
      "Karenville            45345.387710\n",
      "Cruzport              44876.504887\n",
      "North Hannahmouth     44474.831112\n",
      "Roberttown            44468.146249\n",
      "Port Darlene          43891.448401\n",
      "Matthewsville         43861.621353\n",
      "Mirandaside           43842.655879\n",
      "Davidmouth            43623.931217\n",
      "Elizabethmouth        43601.058634\n",
      "West Jaymouth         43266.289138\n",
      "Tonystad              43108.760254\n",
      "Lake Sallychester     42772.278322\n",
      "New Dianechester      42275.005172\n",
      "East Jamie            41088.457464\n",
      "New Ryan              40633.386684\n",
      "Name: amount, dtype: float64\n"
     ]
    }
   ],
   "source": [
    "#Cредняя сумма транзакции по каждому городу:\n",
    "AVGcity = df1T.groupby('city')['amount'].mean().sort_values(ascending=False)\n",
    "\n",
    "print(AVGcity)\n",
    "\n",
    "#.groupby - группировка.\n",
    "#.mean - среднее значение.\n",
    "#.sort_values - cортировка. Возрастание или убывание. (True/False)."
   ]
  },
  {
   "cell_type": "code",
   "execution_count": 34,
   "id": "7378da34-6237-42c3-b2af-5f0166d26e21",
   "metadata": {},
   "outputs": [
    {
     "name": "stdout",
     "output_type": "stream",
     "text": [
      "service\n",
      "Инвестиционное консультирование    8.836130e+07\n",
      "Name: amount, dtype: float64\n"
     ]
    }
   ],
   "source": [
    "#Услуга с наибольшей выручкой:\n",
    "RevenueService = df1T.groupby('service')['amount'].sum().nlargest(1)\n",
    "\n",
    "print(RevenueService)\n",
    "#.groupby - группировка. \n",
    "#.nlargest - возвращает самые большие значения из серии. \n",
    "#.sum cчитает выручку, по группировке. "
   ]
  },
  {
   "cell_type": "code",
   "execution_count": 35,
   "id": "920e55b3-7003-4e16-8a1d-0e9ef542bbc0",
   "metadata": {},
   "outputs": [
    {
     "name": "stdout",
     "output_type": "stream",
     "text": [
      "payment_method\n",
      "Кредитная карта       39.849513\n",
      "Банковский перевод    34.774270\n",
      "Неизвестно            10.165240\n",
      "Наличные               9.884922\n",
      "Криптовалюта           5.326055\n",
      "Name: proportion, dtype: float64\n"
     ]
    }
   ],
   "source": [
    "#Процент транзакций по способам оплаты (наличные, банковский перевод и т. д.):\n",
    "ProcentT = df1T['payment_method'].value_counts(normalize=True) * 100\n",
    "\n",
    "print(ProcentT)\n",
    "#.value_counts - подсчет сколько раз встречается метод оплаты.\n",
    "#normalize=True - раздление на доли от общего числа. * 100, превращение в проценты. "
   ]
  },
  {
   "cell_type": "code",
   "execution_count": 36,
   "id": "2e3ae9d9-3d8f-4af6-a311-e0272f8fdcea",
   "metadata": {},
   "outputs": [],
   "source": [
    "#Принудительная замена на тип данных datetime:\n",
    "df1T['transaction_date'] = pd.to_datetime(df1T['transaction_date'], errors='coerce')"
   ]
  },
  {
   "cell_type": "code",
   "execution_count": 37,
   "id": "c9b9b2ad-60ac-494b-9093-9128e2367cda",
   "metadata": {},
   "outputs": [],
   "source": [
    "#Сохранение данных:\n",
    "df1T.to_excel('Источники/Транзакции/transactions_data.xlsx', index=False)"
   ]
  },
  {
   "cell_type": "code",
   "execution_count": 38,
   "id": "9c9d60c1-211c-4a77-b5d5-2b9274485302",
   "metadata": {},
   "outputs": [
    {
     "name": "stdout",
     "output_type": "stream",
     "text": [
      "Выручка за последний месяц: 78173316.70737548\n"
     ]
    }
   ],
   "source": [
    "#Выручка за последний месяц:\n",
    "last_month = df1T['transaction_date'].max().to_period('M')\n",
    "#Фильтруем строки, чтобы вывести данные за последний месяц, получить данные в переменной, последний месяца: \n",
    "df1T_last_month = df1T[df1T['transaction_date'].dt.to_period('M') == last_month]\n",
    "#Подсчет:\n",
    "last_monthRevenue = df1T_last_month['amount'].sum()\n",
    "\n",
    "print(f\"Выручка за последний месяц: {last_monthRevenue}\")\n",
    "#.max - получение последнего месяца. В данных. \n",
    "#.to_period - получения месяца из даты. ('M') M в скобках дает месяц. \n",
    "#.dt - извлечение месяца из периода.\n",
    "#.sum - сумма. "
   ]
  },
  {
   "cell_type": "markdown",
   "id": "0811dee6-5caa-4233-9f5e-82433acde90e",
   "metadata": {},
   "source": [
    "Закончили расчеты. Далее. \n",
    "\n",
    "Задачи:\n",
    "\n",
    "3. Объединить данные(и анализ): \n",
    "~~~\n",
    "-Объединить транзакции с клиентскими данными (по id).\n",
    "-Создать новую колонку с уровнями активов.\n",
    "-Провести анализ по уровням активов и определить, какие категории клиентов приносят наибольшую выручку.\n",
    "\n",
    "Категории клиентов по уровню активов:\n",
    "a.\tНизкий капитал (<100 000).\n",
    "b.\tСредний капитал (100 000 - 1 000 000).\n",
    "c.\tВысокий капитал (>1 000 000).  "
   ]
  },
  {
   "cell_type": "code",
   "execution_count": 39,
   "id": "9d68f584-ba06-4e34-a9d5-f499878bdc98",
   "metadata": {},
   "outputs": [
    {
     "name": "stdout",
     "output_type": "stream",
     "text": [
      "                         transaction_id                             client_id  \\\n",
      "0  ff36597c-df41-44a0-9f46-6aa1fe615270  1ec5ab91-fdd0-4925-a221-f0c4e04fe0e7   \n",
      "\n",
      "     transaction_date                    service        amount  \\\n",
      "0 2025-01-04 00:02:20  Структурирование капитала  55838.059789   \n",
      "\n",
      "       payment_method               city     consultant  \\\n",
      "0  Банковский перевод  North Patrickport  Cheryl Waller   \n",
      "\n",
      "                                     id  age   gender   net_worth  \n",
      "0  1ec5ab91-fdd0-4925-a221-f0c4e04fe0e7   41  Мужчина  2514729.46  \n"
     ]
    }
   ],
   "source": [
    "#Join файлов:\n",
    "merged_df = pd.merge(df1T, df2C, left_on='client_id', right_on='id', how='inner')\n",
    "\n",
    "#Проверка: \n",
    "print(merged_df.head(1))\n",
    "\n",
    "#.merge - это join, если на языке SQL. \n",
    "#left_on/Right_on - говорим Pandas: колонка client_id слева, колонка id, справа. \n",
    "#Используем если разные название id.\n",
    "#how='inner' - тип соединения. Соединяемся только по совпавшим id, в двух файлах. \n",
    "#Pandas проверяет есть ли совпавшие слева, и соединяет со совпавшими справа. "
   ]
  },
  {
   "cell_type": "code",
   "execution_count": 58,
   "id": "8817d8e0-1018-4fa7-a908-ff53aeab1e38",
   "metadata": {},
   "outputs": [
    {
     "name": "stdout",
     "output_type": "stream",
     "text": [
      "    net_worth levelClients_Activ\n",
      "0  2514729.46    Высокий капитал\n",
      "1   566568.29    Средний капитал\n",
      "2  1896001.28    Высокий капитал\n",
      "3  4865849.92    Высокий капитал\n",
      "4  3992281.84    Высокий капитал\n"
     ]
    }
   ],
   "source": [
    "#Колонка с уровнями активов:\n",
    "\n",
    "#Функция для уровней активов:\n",
    "def ActivClients(x):\n",
    "    if x < 100000:\n",
    "        return 'Низкий капитал'\n",
    "    elif 100000 <= x <= 1000000:\n",
    "        return 'Средний капитал'\n",
    "    elif x > 1000000:\n",
    "        return 'Высокий капитал'\n",
    "    else:\n",
    "        'Неопределено'\n",
    "\n",
    "#Cоздание колонки с уровнями активов:\n",
    "merged_df['levelClients_Activ'] = merged_df['net_worth'].apply(ActivClients) \n",
    "\n",
    "#Проверка: \n",
    "print(merged_df[['net_worth','levelClients_Activ']].head(5))\n",
    "\n",
    "#def объявление функции(ActivClients).\n",
    "#if - условие. \n",
    "#elif - доп.условие. \n",
    "#else - вывод, если не под, что не подходит. \n",
    "#apply - метод, который позволяет применить функцию ко всем элементам в столбце(или строке) таблицы.\n",
    "#return - ключевое слово, которое используется внутри, для возврата значении функции. \n",
    "#*После объединения использовали новый DataFrame."
   ]
  },
  {
   "cell_type": "code",
   "execution_count": 62,
   "id": "f787b598-32c1-41fb-ba2d-f6353850e8ac",
   "metadata": {},
   "outputs": [
    {
     "name": "stdout",
     "output_type": "stream",
     "text": [
      "  levelClients_Activ        amount\n",
      "0    Высокий капитал  2.173297e+08\n",
      "1    Средний капитал  4.715384e+07\n",
      "2     Низкий капитал  4.340166e+06\n"
     ]
    }
   ],
   "source": [
    "#Категории клиентов приносящие наибольшую выручку, анализ по уровням активов:\n",
    "RevenueTOPgroupActivClients = merged_df.groupby('levelClients_Activ')['amount'].sum().sort_values(ascending=False).reset_index()\n",
    "\n",
    "print(RevenueTOPgroupActivClients)\n",
    "#.groupby - группировка. \n",
    "#.sum - Сумма выручки по группам. \n",
    "#.sort_values(ascending=False) - Сортировка по убыванию. False. От большего к меньшему (True - наоборот).\n",
    "#.reset_index() - превращение в \"таблицу\" (Убрали, Name: amount, dtype: float64, появились номера строк)."
   ]
  },
  {
   "cell_type": "markdown",
   "id": "ecdee5c2-36b1-459d-a7bd-f5a5c631aa30",
   "metadata": {},
   "source": [
    "Закончили анализ. Далее. \n",
    "\n",
    "4. Визуализация данных.\n",
    "~~~\n",
    "-Построить распределение сумм транзакций.\n",
    "-Создать диаграмму выручки по услугам.\n",
    "-Построить график зависимости средней суммы транзакции от возраста клиентов."
   ]
  },
  {
   "cell_type": "code",
   "execution_count": null,
   "id": "23e907a6-9418-4e70-a685-bc6c3e5ab3d2",
   "metadata": {},
   "outputs": [],
   "source": []
  }
 ],
 "metadata": {
  "kernelspec": {
   "display_name": "Python 3 (ipykernel)",
   "language": "python",
   "name": "python3"
  },
  "language_info": {
   "codemirror_mode": {
    "name": "ipython",
    "version": 3
   },
   "file_extension": ".py",
   "mimetype": "text/x-python",
   "name": "python",
   "nbconvert_exporter": "python",
   "pygments_lexer": "ipython3",
   "version": "3.13.3"
  }
 },
 "nbformat": 4,
 "nbformat_minor": 5
}
