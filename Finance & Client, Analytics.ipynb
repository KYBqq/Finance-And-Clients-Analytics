{
 "cells": [
  {
   "cell_type": "markdown",
   "id": "3f77f339-0448-40ba-915f-fb6ab75d0555",
   "metadata": {},
   "source": [
    "Задание 1: Анализ финансовых транзакций и клиентов.\n",
    "\n",
    "Описание:\n",
    "\n",
    "В тестовом задании вам предоставляются два набора данных:\n",
    "Файл transactions_data.xlsx (данные о финансовых транзакциях):\n",
    "•\ttransaction_id – уникальный идентификатор транзакции\n",
    "•\tclient_id – идентификатор клиента, совершившего транзакцию\n",
    "•\ttransaction_date – дата проведения транзакции\n",
    "•\tservice – тип оказанной финансовой услуги\n",
    "•\tamount – сумма транзакции (выручка)\n",
    "•\tpayment_method – способ оплаты (банковский перевод, кредитная карта и т. д.)\n",
    "•\tcity – город, в котором была совершена транзакция\n",
    "•\tconsultant – имя финансового консультанта, оформившего транзакцию\n",
    "\n",
    "Файл clients_data.json (данные о клиентах):\n",
    "•\tclient_id – уникальный идентификатор клиента\n",
    "•\tage – возраст клиента\n",
    "•\tgender – пол клиента\n",
    "•\tnet_worth – чистая стоимость активов клиента\n",
    "\n",
    "Данные могут содержать пропуски, ошибки (например, некорректные даты), а также аномальные значения (отрицательные суммы, несуществующие услуги и т. д.), поэтому перед анализом необходимо их очистить и нормализовать.\n",
    "\n",
    "Задачи:\n",
    "1.\tОчистка и подготовка данных. Проверить данные на пропущенные и аномальные значения (например, отрицательные суммы транзакций). Удалить или исправить некорректные данные. Привести формат дат к единому стандарту."
   ]
  },
  {
   "cell_type": "code",
   "execution_count": 9,
   "id": "d014fa99-5d2d-46c2-8cfe-237b7c863730",
   "metadata": {},
   "outputs": [],
   "source": [
    "import pandas as pd "
   ]
  },
  {
   "cell_type": "code",
   "execution_count": 19,
   "id": "00fa3879-e54d-4946-aea4-76f0689b207d",
   "metadata": {},
   "outputs": [],
   "source": [
    "#Чтение файлов:\n",
    "df1T = pd.read_excel('Источники/transactions_data.xlsx')\n",
    "df2C = pd.read_json('Источники/clients_data.json')  "
   ]
  },
  {
   "cell_type": "code",
   "execution_count": null,
   "id": "be0f4c6e-f137-4f1f-997d-025800f7de9c",
   "metadata": {},
   "outputs": [],
   "source": []
  }
 ],
 "metadata": {
  "kernelspec": {
   "display_name": "Python 3 (ipykernel)",
   "language": "python",
   "name": "python3"
  },
  "language_info": {
   "codemirror_mode": {
    "name": "ipython",
    "version": 3
   },
   "file_extension": ".py",
   "mimetype": "text/x-python",
   "name": "python",
   "nbconvert_exporter": "python",
   "pygments_lexer": "ipython3",
   "version": "3.13.3"
  }
 },
 "nbformat": 4,
 "nbformat_minor": 5
}
